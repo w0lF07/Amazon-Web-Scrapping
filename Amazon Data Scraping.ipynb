{
 "cells": [
  {
   "cell_type": "code",
   "execution_count": 1,
   "id": "7b73ee38-c9d8-439f-b048-76b250cdcea3",
   "metadata": {},
   "outputs": [],
   "source": [
    "from bs4 import BeautifulSoup\n",
    "import requests\n",
    "import time\n",
    "import datetime\n",
    "import smtplib"
   ]
  },
  {
   "cell_type": "code",
   "execution_count": 47,
   "id": "64ffd750-07dc-4acc-9ade-988741a4d547",
   "metadata": {},
   "outputs": [
    {
     "name": "stdout",
     "output_type": "stream",
     "text": [
      "\n",
      "             Samsung Odyssey OLED G9 49-inch(124.4cm) Dual QHD 5120 x 1440 Curved 1800R Gaming Monitor, 240Hz, 0.03ms, FreeSync Premium Pro, G-Sync, Quantum Dot, HDR10+, Speaker, HAS (LS49CG930SWXXL, Silver)\n",
      "            \n",
      "1,15,999 .\n",
      "\n",
      "                          Only 2 left in stock.\n",
      "                         \n",
      "\n",
      "                                Clicktech Retail Private Ltd\n",
      "                               \n"
     ]
    }
   ],
   "source": [
    "URL = 'https://www.amazon.in/Samsung-Odyssey-49-inch-FreeSync-LS49CG930SWXXL/dp/B0D5Y4NVK6/ref=sr_1_1_sspa?crid=1MYI89JF6817R&dib=eyJ2IjoiMSJ9.v-SVgbZsV-X6EV5QZycIasswIJb3ezkeBJsPcUCIR2tF6SS7Mo2I-v4BrnuE_0Q-fGwEsgZKGUlcVRBC6Sa5RO9VvC_x26X5IaWS1cbtDikxtOl3uQv0ratG2pwXRE6rEY7VHJw7h6kTYOYAVo9eddr6-eTNMM8gft8n8J1Y_PkHlVjz4NC1B0cHzJx3CXnFWlzlQYgy_hAD6wLk0RJmWkTRTjLkUSdghVNEdIuML7M._Q8FzRP9VLYRyMHyhDc6KHyehzeE3Z63ZNn8_7Kh54c&dib_tag=se&keywords=oled%2Bgaming%2Bmonitor&qid=1744844131&sprefix=oled%2Bgaming%2Bmonitor%2Caps%2C314&sr=8-1-spons&sp_csd=d2lkZ2V0TmFtZT1zcF9hdGY&th=1'\n",
    "\n",
    "headers = {\"User-Agent\": \"Mozilla/5.0 (Macintosh; Intel Mac OS X 10_15_7) AppleWebKit/537.36 (KHTML, like Gecko) Chrome/135.0.0.0 Safari/537.36\"}\n",
    "\n",
    "page = requests.get(URL, headers=headers)\n",
    "\n",
    "soup1 = BeautifulSoup(page.content, \"html.parser\")\n",
    "\n",
    "soup2 = BeautifulSoup(soup1.prettify(), \"html.parser\")\n",
    "\n",
    "title = soup2.find(id='productTitle').get_text()\n",
    "\n",
    "price_tag = soup2.find(\"span\", class_=\"a-price-whole\")\n",
    "if price_tag:\n",
    "    price = price_tag.get_text().strip().replace('\\n', '').replace('  ', '')\n",
    "else:\n",
    "    price = \"Price not found\"\n",
    "\n",
    "availability = soup2.find(\"span\", class_=\"a-size-base a-color-price a-text-bold\").get_text()\n",
    "\n",
    "seller = soup2.find(\"a\", id=\"sellerProfileTriggerId\").get_text()\n",
    "\n",
    "\n",
    "print(title)\n",
    "print(price)\n",
    "print(availability)\n",
    "print(seller)"
   ]
  },
  {
   "cell_type": "code",
   "execution_count": 51,
   "id": "f3c91a6a-e52f-40db-92f5-e2c2d423922b",
   "metadata": {},
   "outputs": [
    {
     "name": "stdout",
     "output_type": "stream",
     "text": [
      "Samsung Odyssey OLED G9 49-inch\n",
      "1,15,999\n",
      "Only 2 left in stock.\n",
      "Clicktech Retail Private Ltd\n"
     ]
    }
   ],
   "source": [
    "title = title.strip()[:31]\n",
    "availability = availability.strip()\n",
    "seller = seller.strip()\n",
    "price = price.strip()[:8]\n",
    "\n",
    "print(title)\n",
    "print(price)\n",
    "print(availability)\n",
    "print(seller)"
   ]
  },
  {
   "cell_type": "code",
   "execution_count": 53,
   "id": "63cf62f2-ed94-4544-b302-8c9f7da7f27d",
   "metadata": {},
   "outputs": [
    {
     "name": "stdout",
     "output_type": "stream",
     "text": [
      "2025-04-17\n"
     ]
    }
   ],
   "source": [
    "today = datetime.date.today()\n",
    "\n",
    "print(today)"
   ]
  },
  {
   "cell_type": "code",
   "execution_count": 55,
   "id": "2965ec58-7b24-4ac5-b622-67cc761841b8",
   "metadata": {},
   "outputs": [
    {
     "name": "stdout",
     "output_type": "stream",
     "text": [
      "Saved to: /Users/wolf/AmazonWebScraperDataset.csv\n"
     ]
    }
   ],
   "source": [
    "import csv \n",
    "import os\n",
    "\n",
    "header = ['Title', 'Price', 'Seller', 'Availability', 'Date']\n",
    "data = [title, price, seller, availability, today]\n",
    "\n",
    "\n",
    "#with open('AmazonWebScraperDataset.csv', 'w', newline='', encoding='UTF8') as f:\n",
    "    #writer = csv.writer(f)\n",
    "    #writer.writerow(header)\n",
    "    #writer.writerow(data)\n",
    "\n",
    "print(\"Saved to:\", os.path.abspath(\"AmazonWebScraperDataset.csv\"))"
   ]
  },
  {
   "cell_type": "code",
   "execution_count": 59,
   "id": "5edb4bbf-7f8d-4491-aaf3-5221c73c7055",
   "metadata": {},
   "outputs": [
    {
     "name": "stdout",
     "output_type": "stream",
     "text": [
      "                             Title     Price                        Seller           Availability        Date\n",
      "0  Samsung Odyssey OLED G9 49-inch  1,15,999  Clicktech Retail Private Ltd  Only 2 left in stock.  2025-04-17\n"
     ]
    }
   ],
   "source": [
    "import pandas as pd\n",
    "\n",
    "df = pd.read_csv(r'/Users/wolf/AmazonWebScraperDataset.csv')\n",
    "\n",
    "pd.set_option('display.max_columns', None)\n",
    "pd.set_option('display.width', 1000)  # You can increase this number if needed\n",
    "pd.set_option('display.max_colwidth', None)\n",
    "\n",
    "print(df)"
   ]
  },
  {
   "cell_type": "code",
   "execution_count": 61,
   "id": "faa5903f-f395-4f44-97f7-e2fa0345ae54",
   "metadata": {},
   "outputs": [],
   "source": [
    "with open('AmazonWebScraperDataset.csv', 'a+', newline='', encoding='UTF8') as f:\n",
    "    writer = csv.writer(f)\n",
    "    writer.writerow(data)"
   ]
  },
  {
   "cell_type": "code",
   "execution_count": 3,
   "id": "fa9670db-ac3c-4558-9fc5-8d9699f50be1",
   "metadata": {},
   "outputs": [],
   "source": [
    "def check_price():\n",
    "    URL = 'https://www.amazon.in/Samsung-Odyssey-49-inch-FreeSync-LS49CG930SWXXL/dp/B0D5Y4NVK6/ref=sr_1_1_sspa?crid=1MYI89JF6817R&dib=eyJ2IjoiMSJ9.v-SVgbZsV-X6EV5QZycIasswIJb3ezkeBJsPcUCIR2tF6SS7Mo2I-v4BrnuE_0Q-fGwEsgZKGUlcVRBC6Sa5RO9VvC_x26X5IaWS1cbtDikxtOl3uQv0ratG2pwXRE6rEY7VHJw7h6kTYOYAVo9eddr6-eTNMM8gft8n8J1Y_PkHlVjz4NC1B0cHzJx3CXnFWlzlQYgy_hAD6wLk0RJmWkTRTjLkUSdghVNEdIuML7M._Q8FzRP9VLYRyMHyhDc6KHyehzeE3Z63ZNn8_7Kh54c&dib_tag=se&keywords=oled%2Bgaming%2Bmonitor&qid=1744844131&sprefix=oled%2Bgaming%2Bmonitor%2Caps%2C314&sr=8-1-spons&sp_csd=d2lkZ2V0TmFtZT1zcF9hdGY&th=1'\n",
    "\n",
    "    headers = {\"User-Agent\": \"Mozilla/5.0 (Macintosh; Intel Mac OS X 10_15_7) AppleWebKit/537.36 (KHTML, like Gecko) Chrome/135.0.0.0 Safari/537.36\"}\n",
    "\n",
    "    page = requests.get(URL, headers=headers)\n",
    "\n",
    "    soup1 = BeautifulSoup(page.content, \"html.parser\")\n",
    "\n",
    "    soup2 = BeautifulSoup(soup1.prettify(), \"html.parser\")\n",
    "\n",
    "    title = soup2.find(id='productTitle').get_text()\n",
    "\n",
    "    price_tag = soup2.find(\"span\", class_=\"a-price-whole\")\n",
    "    if price_tag:\n",
    "        price = price_tag.get_text().strip().replace('\\n', '').replace('  ', '')\n",
    "    else:\n",
    "        price = \"Price not found\"\n",
    "\n",
    "    availability = soup2.find(\"span\", class_=\"a-size-base a-color-price a-text-bold\").get_text()\n",
    "\n",
    "    seller = soup2.find(\"a\", id=\"sellerProfileTriggerId\").get_text()\n",
    "\n",
    "    title = title.strip()[:31]\n",
    "    availability = availability.strip()\n",
    "    seller = seller.strip()\n",
    "    price = price.strip()[:8]\n",
    "\n",
    "    today = datetime.date.today()\n",
    "\n",
    "    import csv \n",
    "    import os\n",
    "    \n",
    "    header = ['Title', 'Price', 'Seller', 'Availability', 'Date']\n",
    "    data = [title, price, seller, availability, today]\n",
    "\n",
    "    with open('AmazonWebScraperDataset.csv', 'a+', newline='', encoding='UTF8') as f:\n",
    "        writer = csv.writer(f)\n",
    "        writer.writerow(data)\n",
    "\n",
    "    price_num = int(price.replace(',', ''))\n",
    "    if(price_num < 110000):\n",
    "        send_mail()"
   ]
  },
  {
   "cell_type": "code",
   "execution_count": null,
   "id": "fa4921ac-a1d0-42ba-b0a1-f3b2d1653241",
   "metadata": {},
   "outputs": [],
   "source": [
    "while(True):\n",
    "    check_price()\n",
    "    time.sleep(86400)"
   ]
  },
  {
   "cell_type": "code",
   "execution_count": null,
   "id": "762d018d-4dc9-4323-b821-3fc5bc8b61e7",
   "metadata": {},
   "outputs": [],
   "source": [
    "import pandas as pd\n",
    "\n",
    "df = pd.read_csv(r'/Users/wolf/AmazonWebScraperDataset.csv')\n",
    "\n",
    "pd.set_option('display.max_columns', None)\n",
    "pd.set_option('display.width', 1000)\n",
    "pd.set_option('display.max_colwidth', None)\n",
    "\n",
    "print(df)"
   ]
  },
  {
   "cell_type": "code",
   "execution_count": null,
   "id": "f779ac14-4d34-4604-926b-2657a9dc383d",
   "metadata": {},
   "outputs": [],
   "source": [
    "def send_mail():\n",
    "    server = smtplib.SMTP_SSL('smtp.gmail.com',465)\n",
    "    server.ehlo()\n",
    "    \n",
    "    #server.starttls()\n",
    "    \n",
    "    server.ehlo()\n",
    "    server.login('swastik.taj@gmail.com','jokerwasagoodman07!')\n",
    "    \n",
    "    subject = \"The Monitor you want is below 1,10,000 rupees! Now is your chance to buy!\"\n",
    "    body = \"wolfie, this is the moment we have been waiting for. Now is your chance to pick up the dream monitor. Don't mess it up! Link here: https://www.amazon.in/Samsung-Odyssey-49-inch-FreeSync-LS49CG930SWXXL/dp/B0D5Y4NVK6/ref=sr_1_1_sspa?crid=1MYI89JF6817R&dib=eyJ2IjoiMSJ9.v-SVgbZsV-X6EV5QZycIasswIJb3ezkeBJsPcUCIR2tF6SS7Mo2I-v4BrnuE_0Q-fGwEsgZKGUlcVRBC6Sa5RO9VvC_x26X5IaWS1cbtDikxtOl3uQv0ratG2pwXRE6rEY7VHJw7h6kTYOYAVo9eddr6-eTNMM8gft8n8J1Y_PkHlVjz4NC1B0cHzJx3CXnFWlzlQYgy_hAD6wLk0RJmWkTRTjLkUSdghVNEdIuML7M._Q8FzRP9VLYRyMHyhDc6KHyehzeE3Z63ZNn8_7Kh54c&dib_tag=se&keywords=oled%2Bgaming%2Bmonitor&qid=1744844131&sprefix=oled%2Bgaming%2Bmonitor%2Caps%2C314&sr=8-1-spons&sp_csd=d2lkZ2V0TmFtZT1zcF9hdGY&th=1\"\n",
    "   \n",
    "    msg = f\"Subject: {subject}\\n\\n{body}\"\n",
    "    \n",
    "    server.sendmail(\n",
    "        'swastik.taj@gmail.com',\n",
    "        msg\n",
    "     \n",
    "    )"
   ]
  },
  {
   "cell_type": "code",
   "execution_count": null,
   "id": "d6347811-6b31-40a8-98f5-45d2cfc89970",
   "metadata": {},
   "outputs": [],
   "source": []
  }
 ],
 "metadata": {
  "kernelspec": {
   "display_name": "Python [conda env:base] *",
   "language": "python",
   "name": "conda-base-py"
  },
  "language_info": {
   "codemirror_mode": {
    "name": "ipython",
    "version": 3
   },
   "file_extension": ".py",
   "mimetype": "text/x-python",
   "name": "python",
   "nbconvert_exporter": "python",
   "pygments_lexer": "ipython3",
   "version": "3.12.7"
  }
 },
 "nbformat": 4,
 "nbformat_minor": 5
}
